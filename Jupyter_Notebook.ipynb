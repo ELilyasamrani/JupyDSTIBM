{
 "cells": [
  {
   "cell_type": "markdown",
   "metadata": {},
   "source": [
    "<center>\n",
    "    <img src=\"https://cf-courses-data.s3.us.cloud-object-storage.appdomain.cloud/IBMDeveloperSkillsNetwork-DS0105EN-SkillsNetwork/labs/Module2/images/SN_web_lightmode.png\" width=\"300\" alt=\"cognitiveclass.ai logo\">\n",
    "</center>\n"
   ]
  },
  {
   "cell_type": "markdown",
   "metadata": {},
   "source": [
    "<h1>Tools For Data Science Notebook</h1>\n",
    "<h2>By Ilyas El Amrani</h2>\n"
   ]
  },
  {
   "cell_type": "markdown",
   "metadata": {},
   "source": [
    "<p>Data science is a multidisciplinary field that's been growing rapidly in the recent 20 years for the advances made in the fields of computer science and artificial intelligence.</p>"
   ]
  },
  {
   "cell_type": "markdown",
   "metadata": {},
   "source": [
    "There are various languages in which we could write scripts and programs to solve data science problems, some of the most used languages in the field of data science are :<br>\n",
    "<ul>\n",
    "    <li>Python</li>\n",
    "    <li>R</li>\n",
    "    <li>Scala</li>\n",
    "    <li>Java</li>\n",
    "</ul>"
   ]
  },
  {
   "cell_type": "markdown",
   "metadata": {},
   "source": [
    "<p>Furthermore, many python libraries are provided to help solve such problems and offer various objects and functions to implement, we could site the most known:</p>\n",
    "<ul>\n",
    "    <li>Numpy</li>\n",
    "    <li>Pandas</li>\n",
    "    <li>Matplotlib</li>\n",
    "    <li>Seaborn</li>\n",
    "    <li>ScikitLearn</li>\n",
    "    <li>Tensorflow</li>\n",
    "</ul>"
   ]
  },
  {
   "cell_type": "markdown",
   "metadata": {},
   "source": [
    "<p>Also, there are various tools we could use to perform data science, here are a few examples:</p>\n",
    "<table>\n",
    "    <thead>\n",
    "        <tr>\n",
    "            <td>Tool name</td>\n",
    "            <td>Description</td>\n",
    "        </tr>\n",
    "    </thead>\n",
    "    <tr>\n",
    "        <td>Jupyter Notebook</td>\n",
    "        <td>Helps data scientists to program and organize the various solutions and studies they perform in various languages.</td>\n",
    "    </tr>\n",
    "    <tr>\n",
    "        <td>Power BI</td>\n",
    "        <td>Mostly used by Business Intelligence specialists, but also by data scientists to visualize and model data.</td>\n",
    "    </tr>\n",
    "    <tr>\n",
    "        <td>GitHub</td>\n",
    "        <td>Used by all developers, IT specialists and anyone interested by keeping up with the versions of various files, for data scientists its mostly notebooks.</td>\n",
    "    </tr>\n",
    "    <tr>\n",
    "        <td>IBM Watson Studio</td>\n",
    "        <td>A complete environment where data scientists could produce, share and collaborate on various data subjects and problems using notebooks, data sets and visualizations.</td>\n",
    "    </tr>\n",
    "</table>"
   ]
  },
  {
   "cell_type": "markdown",
   "metadata": {},
   "source": [
    "<p>We could perform arithmetic operations as shown in the following table:</p>\n",
    "<table>\n",
    "    <thead>\n",
    "        <tr>\n",
    "            <td>Arithmetic operation</td>\n",
    "            <td>Example</td>\n",
    "        </tr>\n",
    "    </thead>\n",
    "    <tr>\n",
    "        <td>Multiplication</td>\n",
    "        <td>a * b</td>\n",
    "    </tr>\n",
    "    <tr>\n",
    "        <td>Division</td>\n",
    "        <td>a / b</td>\n",
    "    </tr>\n",
    "    <tr>\n",
    "        <td>Addition</td>\n",
    "        <td>a + b</td>\n",
    "    </tr>\n",
    "    <tr>\n",
    "        <td>Substraction</td>\n",
    "        <td>a - b</td>\n",
    "    </tr>\n",
    "</table>    "
   ]
  },
  {
   "cell_type": "code",
   "execution_count": 1,
   "metadata": {},
   "outputs": [
    {
     "data": {
      "text/plain": [
       "2376.56"
      ]
     },
     "execution_count": 1,
     "metadata": {},
     "output_type": "execute_result"
    }
   ],
   "source": [
    "99*24+0.56"
   ]
  },
  {
   "cell_type": "code",
   "execution_count": 3,
   "metadata": {},
   "outputs": [
    {
     "data": {
      "text/plain": [
       "4.083333333333333"
      ]
     },
     "execution_count": 3,
     "metadata": {},
     "output_type": "execute_result"
    }
   ],
   "source": [
    "minuts = 245\n",
    "hours = minuts/60\n",
    "hours"
   ]
  },
  {
   "cell_type": "markdown",
   "metadata": {},
   "source": [
    "<h3>Objectives</h3>\n",
    "<ul>\n",
    "    <li>Discover some data science languages</li>\n",
    "    <li>Discover some data science python libraries</li>\n",
    "    <li>Discover some data science tools</li>\n",
    "    <li>Perform arithmetic operations in Jupyter Notebook</li>\n",
    "</ul>"
   ]
  },
  {
   "cell_type": "markdown",
   "metadata": {},
   "source": [
    "<h3>Author : Ilyas El Amrani</h3>"
   ]
  },
  {
   "cell_type": "code",
   "execution_count": null,
   "metadata": {},
   "outputs": [],
   "source": []
  }
 ],
 "metadata": {
  "kernelspec": {
   "display_name": "Python",
   "language": "python",
   "name": "conda-env-python-py"
  },
  "language_info": {
   "codemirror_mode": {
    "name": "ipython",
    "version": 3
   },
   "file_extension": ".py",
   "mimetype": "text/x-python",
   "name": "python",
   "nbconvert_exporter": "python",
   "pygments_lexer": "ipython3",
   "version": "3.7.12"
  }
 },
 "nbformat": 4,
 "nbformat_minor": 4
}
